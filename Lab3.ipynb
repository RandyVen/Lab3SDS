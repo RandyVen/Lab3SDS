{
  "nbformat": 4,
  "nbformat_minor": 0,
  "metadata": {
    "colab": {
      "provenance": []
    },
    "kernelspec": {
      "name": "python3",
      "display_name": "Python 3"
    },
    "language_info": {
      "name": "python"
    }
  },
  "cells": [
    {
      "cell_type": "code",
      "source": [
        "import pandas as pd\n",
        "import matplotlib.pyplot as plt\n",
        "\n",
        "# Cargar el archivo VirusSample.csv en un DataFrame llamado \"db\"\n",
        "db = pd.read_csv('VirusSample.csv')\n",
        "\n",
        "# Imprimir un resumen de los datos\n",
        "print(db.describe())"
      ],
      "metadata": {
        "id": "9Z6SXXtxwMtp",
        "colab": {
          "base_uri": "https://localhost:8080/"
        },
        "outputId": "40b95dbc-349e-48ca-c22a-49fefd70ab8d"
      },
      "execution_count": null,
      "outputs": [
        {
          "output_type": "stream",
          "name": "stdout",
          "text": [
            "                                            file                          api  \\\n",
            "count                                       9795                         9795   \n",
            "unique                                      9795                         2980   \n",
            "top     7ff49f2f0912352416b05c010f35f402cc79feed  LoadLibraryA,GetProcAddress   \n",
            "freq                                           1                         1007   \n",
            "\n",
            "         class  \n",
            "count     9795  \n",
            "unique      13  \n",
            "top     Trojan  \n",
            "freq      6153  \n"
          ]
        }
      ]
    },
    {
      "cell_type": "code",
      "source": [
        "print(db.head(5))"
      ],
      "metadata": {
        "colab": {
          "base_uri": "https://localhost:8080/"
        },
        "id": "QHpUOTFfxck3",
        "outputId": "9d47430d-2c3d-4866-f2e4-8c39e4cdd3ef"
      },
      "execution_count": null,
      "outputs": [
        {
          "output_type": "stream",
          "name": "stdout",
          "text": [
            "                                       file  \\\n",
            "0  7ff49f2f0912352416b05c010f35f402cc79feed   \n",
            "1  50cc6c99ec285d0db45dde07d8fdc18d9098c5b6   \n",
            "2  f77c6bd4aebacd1a01d02e0cb20642ebf2d32929   \n",
            "3  349c367c5b88fbb6cafae5d7109588d7250e16b5   \n",
            "4  021f4aa86b520e1d606ab26699c35546bcd00c27   \n",
            "\n",
            "                                                 api  class  \n",
            "0         IntersectRect,GetCurrentProcess,GetVersion  Virus  \n",
            "1  GetCaretBlinkTime,CountClipboardFormats,GetCon...  Virus  \n",
            "2  VarR8Pow,GetClipboardViewer,GetInputDesktop,Ge...  Virus  \n",
            "3  SetTraceCallback,CopyAcceleratorTableW,GetProc...  Virus  \n",
            "4  SHLoadNonloadedIconOverlayIdentifiers,VarUI8Fr...  Virus  \n"
          ]
        }
      ]
    },
    {
      "cell_type": "code",
      "source": [
        "tabla = db['class'].value_counts()\n",
        "print(tabla)"
      ],
      "metadata": {
        "colab": {
          "base_uri": "https://localhost:8080/"
        },
        "id": "xvA4eAKcxvTc",
        "outputId": "9e5268b0-7cef-4ff1-ed92-ceaad69f8a49"
      },
      "execution_count": null,
      "outputs": [
        {
          "output_type": "stream",
          "name": "stdout",
          "text": [
            "Trojan        6153\n",
            "Virus         2367\n",
            "Backdoor       447\n",
            "Worms          441\n",
            "Adware         222\n",
            "Agent          102\n",
            "Downloader      31\n",
            "Spyware         11\n",
            "Ransomware      10\n",
            "Riskware         4\n",
            "Dropper          4\n",
            "Crypt            2\n",
            "Keylogger        1\n",
            "Name: class, dtype: int64\n"
          ]
        }
      ]
    },
    {
      "cell_type": "code",
      "source": [
        "tabla = db['class'].value_counts()\n",
        "tabla.plot.bar()\n",
        "plt.show()"
      ],
      "metadata": {
        "colab": {
          "base_uri": "https://localhost:8080/",
          "height": 320
        },
        "id": "o4u2idBuyCAp",
        "outputId": "e978783e-fb9e-43b0-fea6-590fb613b59c"
      },
      "execution_count": null,
      "outputs": [
        {
          "output_type": "display_data",
          "data": {
            "text/plain": [
              "<Figure size 432x288 with 1 Axes>"
            ],
            "image/png": "[encoded data removed]"
          },
          "metadata": {
            "needs_background": "light"
          }
        }
      ]
    },
    {
      "cell_type": "markdown",
      "source": [
        "Se puede observar que los distintos tipos de virus no se distribuyen de manera equilibrada en el conjunto de datos. A pesar de ello, si los reequilibráramos, asegurándonos de tener al menos una instancia de cada tipo de virus en cada categoría, continuaríamos trabajando con estos datos desbalanceados.\n",
        "\n",
        "Además, podemos identificar cuáles son las APIS más frecuentes en el conjunto de datos:"
      ],
      "metadata": {
        "id": "21O7_pswyYQm"
      }
    },
    {
      "cell_type": "code",
      "source": [
        "import nltk\n",
        "\n",
        "nltk.download('stopwords')"
      ],
      "metadata": {
        "colab": {
          "base_uri": "https://localhost:8080/"
        },
        "id": "wLgqjUcXzjh5",
        "outputId": "be7ab1fd-dc9e-4467-eea9-5fbc1fdfa1ad"
      },
      "execution_count": null,
      "outputs": [
        {
          "output_type": "stream",
          "name": "stderr",
          "text": [
            "[nltk_data] Downloading package stopwords to /root/nltk_data...\n",
            "[nltk_data]   Unzipping corpora/stopwords.zip.\n"
          ]
        },
        {
          "output_type": "execute_result",
          "data": {
            "text/plain": [
              "True"
            ]
          },
          "metadata": {},
          "execution_count": 17
        }
      ]
    },
    {
      "cell_type": "code",
      "source": [
        "import re\n",
        "from wordcloud import WordCloud\n",
        "from nltk.corpus import stopwords\n",
        "from sklearn.feature_extraction.text import CountVectorizer\n",
        "\n",
        "# Reemplazar las comas en la columna \"api\" con espacios\n",
        "db['api'] = db['api'].apply(lambda x: re.sub(',', ' ', x))\n",
        "\n",
        "# Crear una lista de las palabras en la columna \"api\"\n",
        "words_list = db['api'].str.lower().str.split().tolist()\n",
        "\n",
        "# Remover las palabras vacías de la lista\n",
        "stop_words = set(stopwords.words('english'))\n",
        "words_list = [[word for word in words if word not in stop_words] for words in words_list]\n",
        "\n",
        "# Crear una matriz de términos-documentos\n",
        "vectorizer = CountVectorizer()\n",
        "dtm_m = vectorizer.fit_transform([' '.join(words) for words in words_list]).toarray()\n",
        "\n",
        "# Obtener una lista de los términos\n",
        "terms = vectorizer.vocabulary_.keys()\n",
        "\n",
        "# Calcular la frecuencia de los términos\n",
        "freqs = dtm_m.sum(axis=0)\n",
        "\n",
        "# Crear un DataFrame con los términos y su frecuencia\n",
        "dtm_d = pd.DataFrame({'word':terms, 'freq':freqs}).sort_values(by='freq', ascending=False)\n",
        "\n",
        "# Mostrar los 10 términos más frecuentes\n",
        "print(dtm_d.head(10))"
      ],
      "metadata": {
        "colab": {
          "base_uri": "https://localhost:8080/"
        },
        "id": "bvtiCAWxyZYT",
        "outputId": "ce27fd78-b812-45d2-fe92-f7ae7e45ac20"
      },
      "execution_count": null,
      "outputs": [
        {
          "output_type": "stream",
          "name": "stdout",
          "text": [
            "                            word  freq\n",
            "3363             setcommtimeouts  6066\n",
            "4199             ntfscontrolfile  5130\n",
            "2606             getmonitorinfoa  4882\n",
            "3291     elfregistereventsourcew  3891\n",
            "7587           mcigetcreatortask  2851\n",
            "1752                    _getname  2836\n",
            "7589              joygetdevcapsw  2763\n",
            "3106          getmodulehandleexa  2425\n",
            "7763               createactctxw  2338\n",
            "5592  _zn8qmapdata10createdataei  2319\n"
          ]
        }
      ]
    },
    {
      "cell_type": "code",
      "source": [
        "# Obtener las frecuencias de las 10 palabras más frecuentes\n",
        "freqs = dtm_d.iloc[:10]['freq']\n",
        "\n",
        "# Obtener los nombres de las 10 palabras más frecuentes\n",
        "words = dtm_d.iloc[:10]['word']\n",
        "\n",
        "# Crear el gráfico de barras\n",
        "plt.bar(words, freqs, color=\"blue\")\n",
        "\n",
        "# Ajustar el texto de los nombres en el eje x\n",
        "plt.xticks(rotation=90, ha='center')\n",
        "\n",
        "# Agregar título y etiquetas de los ejes\n",
        "plt.title(\"Las 10 APIS mas repetidas en el dataset\")\n",
        "plt.xlabel(\"Palabras\")\n",
        "plt.ylabel(\"Frecuencia\")\n",
        "\n",
        "# Mostrar el gráfico\n",
        "plt.show()"
      ],
      "metadata": {
        "colab": {
          "base_uri": "https://localhost:8080/",
          "height": 435
        },
        "id": "FfjBcChx1aYD",
        "outputId": "8b22846d-8259-4216-8f30-435caa65e359"
      },
      "execution_count": null,
      "outputs": [
        {
          "output_type": "display_data",
          "data": {
            "text/plain": [
              "<Figure size 432x288 with 1 Axes>"
            ],
            "image/png": "[encoded data removed]"
          },
          "metadata": {
            "needs_background": "light"
          }
        }
      ]
    },
    {
      "cell_type": "markdown",
      "source": [
        "Preprosesamiento\n",
        "Como se mencionó previamente, los datos no están balanceados, por lo que se requiere realizar una balanceo. No obstante, algunas variables tienen muy pocos datos, por lo que se ha decidido unirlos en una sola categoría. Estas variables son Crypt, Downloader, Dropper, Keylogger, Ransomware, Riskware y Spyware."
      ],
      "metadata": {
        "id": "hMpVh6Bb1quJ"
      }
    }
  ]
}